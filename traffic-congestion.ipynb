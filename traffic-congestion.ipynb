{
 "cells": [
  {
   "cell_type": "code",
   "execution_count": 1,
   "id": "58c53eb9-6e8c-4363-a819-47d43b24ca22",
   "metadata": {},
   "outputs": [],
   "source": [
    "import pandas as pd\n",
    "import numpy as np\n",
    "import googlemaps\n",
    "import os\n",
    "import requests\n",
    "from datetime import datetime"
   ]
  },
  {
   "cell_type": "code",
   "execution_count": 2,
   "id": "587d0803-ab9b-4a22-8f1a-e15cd953f94b",
   "metadata": {},
   "outputs": [],
   "source": [
    "# Call Google's API.\n",
    "\n",
    "\n",
    "# Google Distance Matrix API Key\n",
    "key = os.environ['DB_PWD_GOG']\n",
    "\n",
    "\n",
    "gmaps = googlemaps.Client(key = key)"
   ]
  },
  {
   "cell_type": "code",
   "execution_count": 3,
   "id": "ea287749-970d-4a16-a027-2affa3677e8c",
   "metadata": {},
   "outputs": [],
   "source": [
    "response = gmaps.distance_matrix(('25.637351, -100.377698'),('25.635789, -100.377615'),\n",
    "                  departure_time = 'now')"
   ]
  },
  {
   "cell_type": "code",
   "execution_count": 4,
   "id": "aa3f5180-a8d7-489b-b90b-df972740fb5f",
   "metadata": {},
   "outputs": [
    {
     "data": {
      "text/plain": [
       "{'destination_addresses': ['Perseverancia 141, Zona Colinas de La Sierra Madre, 66280 San Pedro Garza García, N.L., Mexico'],\n",
       " 'origin_addresses': ['Av. Roberto Garza Sada 1177, Zona Colinas de La Sierra Madre, 66280 San Pedro Garza García, N.L., Mexico'],\n",
       " 'rows': [{'elements': [{'distance': {'text': '0.2 km', 'value': 174},\n",
       "     'duration': {'text': '1 min', 'value': 22},\n",
       "     'duration_in_traffic': {'text': '1 min', 'value': 24},\n",
       "     'status': 'OK'}]}],\n",
       " 'status': 'OK'}"
      ]
     },
     "execution_count": 4,
     "metadata": {},
     "output_type": "execute_result"
    }
   ],
   "source": [
    "response"
   ]
  }
 ],
 "metadata": {
  "kernelspec": {
   "display_name": "Python 3 (ipykernel)",
   "language": "python",
   "name": "python3"
  },
  "language_info": {
   "codemirror_mode": {
    "name": "ipython",
    "version": 3
   },
   "file_extension": ".py",
   "mimetype": "text/x-python",
   "name": "python",
   "nbconvert_exporter": "python",
   "pygments_lexer": "ipython3",
   "version": "3.10.9"
  }
 },
 "nbformat": 4,
 "nbformat_minor": 5
}
